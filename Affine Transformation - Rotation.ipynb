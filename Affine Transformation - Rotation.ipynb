{
 "cells": [
  {
   "cell_type": "code",
   "execution_count": null,
   "metadata": {},
   "outputs": [],
   "source": [
    "# the image from disk\n",
    "import cv2\n",
    "import imutils\n",
    "import os\n",
    " \n",
    "\n",
    "folder = '/home/jeet/CV Assignment/ML face images test/'\n",
    "for file in os.listdir(folder):\n",
    "    \n",
    "    # loop over the rotation angles.jpg\n",
    "    image = cv2.imread(os.path.join(folder,file))\n",
    "    image = cv2.resize(image, (200, 200))\n",
    "    rotated = imutils.rotate_bound(image, 5)\n",
    "    cv2.imwrite('/home/jeet/CV Assignment/ML face images test (5 degree)/' + file, rotated)"
   ]
  }
 ],
 "metadata": {
  "kernelspec": {
   "display_name": "Python 3",
   "language": "python",
   "name": "python3"
  },
  "language_info": {
   "codemirror_mode": {
    "name": "ipython",
    "version": 3
   },
   "file_extension": ".py",
   "mimetype": "text/x-python",
   "name": "python",
   "nbconvert_exporter": "python",
   "pygments_lexer": "ipython3",
   "version": "3.6.5"
  }
 },
 "nbformat": 4,
 "nbformat_minor": 2
}
