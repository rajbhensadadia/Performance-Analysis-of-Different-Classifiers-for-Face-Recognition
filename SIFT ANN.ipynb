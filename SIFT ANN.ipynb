{
 "cells": [
  {
   "cell_type": "code",
   "execution_count": 1,
   "metadata": {},
   "outputs": [
    {
     "name": "stderr",
     "output_type": "stream",
     "text": [
      "/home/jeet/anaconda3/lib/python3.6/site-packages/sklearn/cross_validation.py:41: DeprecationWarning: This module was deprecated in version 0.18 in favor of the model_selection module into which all the refactored classes and functions are moved. Also note that the interface of the new CV iterators are different from that of this module. This module will be removed in 0.20.\n",
      "  \"This module will be removed in 0.20.\", DeprecationWarning)\n",
      "/home/jeet/anaconda3/lib/python3.6/site-packages/h5py/__init__.py:36: FutureWarning: Conversion of the second argument of issubdtype from `float` to `np.floating` is deprecated. In future, it will be treated as `np.float64 == np.dtype(float).type`.\n",
      "  from ._conv import register_converters as _register_converters\n",
      "Using TensorFlow backend.\n"
     ]
    }
   ],
   "source": [
    "import cv2\n",
    "import os\n",
    "import re\n",
    "import numpy as np\n",
    "from sklearn.preprocessing import StandardScaler\n",
    "from sklearn.decomposition import PCA\n",
    "from sklearn.cross_validation import train_test_split\n",
    "import matplotlib.pyplot as plt\n",
    "import csv\n",
    "import pandas as pd\n",
    "import keras\n",
    "from keras import models,Model\n",
    "from keras.layers import Dense,GaussianNoise, Dropout,Input\n",
    "from keras.utils import np_utils\n",
    "from sklearn.metrics import average_precision_score\n",
    "from sklearn.metrics import precision_recall_curve\n",
    "%matplotlib inline\n",
    "from skimage.feature import hog\n",
    "%matplotlib inline \n",
    "from sklearn.cluster import KMeans\n"
   ]
  },
  {
   "cell_type": "code",
   "execution_count": 2,
   "metadata": {},
   "outputs": [
    {
     "name": "stdout",
     "output_type": "stream",
     "text": [
      "(204, 1, 128)\n",
      "(70, 1, 128) (70,)\n"
     ]
    }
   ],
   "source": [
    "dataSet = []\n",
    "person = []\n",
    "horiSet = []\n",
    "train_set_x = []\n",
    "count = 0\n",
    "folder = \"/home/jeet/CV Assignment/ML face images train S\"\n",
    "for filename in os.listdir(folder):\n",
    "        img = cv2.imread(os.path.join(folder,filename))\n",
    "#         print(img)\n",
    "        img = cv2.cvtColor(img, cv2.COLOR_RGB2GRAY)\n",
    "        img = cv2.resize(img, (200,200))\n",
    "        sift = cv2.xfeatures2d.SIFT_create()\n",
    "        kp, des = sift.detectAndCompute(img,None)\n",
    "        kmeans = KMeans(n_clusters=1, random_state=0).fit(des)\n",
    "#         print(kmeans.cluster_centers_.shape)\n",
    "        train_set_x.append(kmeans.cluster_centers_)\n",
    "#         person.append(numbers[0])\n",
    "        img = np.ravel(img)\n",
    "        if img is not None:\n",
    "#             for desc in des: \n",
    "            numbers = re.findall('\\d+',filename)\n",
    "            numbers = list(map(int,numbers))\n",
    "            person.append(numbers[0])\n",
    "            horiSet.append(img.T)\n",
    "#             dataSet.append(desc)\n",
    "            count = count + 1\n",
    "\n",
    "print(np.array(train_set_x).shape)      \n",
    "dataSet_test = []\n",
    "person_test = []\n",
    "horiSet_test = []\n",
    "test_set_x = []\n",
    "folder = \"/home/jeet/CV Assignment/ML face images test S\"\n",
    "for filename in os.listdir(folder):\n",
    "        img = cv2.imread(os.path.join(folder,filename))\n",
    "        img = cv2.cvtColor(img, cv2.COLOR_RGB2GRAY)\n",
    "        img = cv2.resize(img, (200, 200))\n",
    "        sift = cv2.xfeatures2d.SIFT_create()\n",
    "        kp, des = sift.detectAndCompute(img,None)\n",
    "        #kp will be a list of keypoints and des is a numpy array of shape Number_of_Keypoints×128.\n",
    "        kmeans = KMeans(n_clusters=1, random_state=0).fit(des)\n",
    "        test_set_x.append(kmeans.cluster_centers_)\n",
    "        img = np.ravel(img)\n",
    "        if img is not None:\n",
    "#             for desc in des: \n",
    "            numbers = re.findall('\\d+',filename)\n",
    "            numbers = list(map(int,numbers))\n",
    "            person_test.append(numbers[0])\n",
    "            horiSet_test.append(img.T)\n",
    "#             dataSet_test.append(desc)\n",
    "            count = count + 1\n",
    "print(np.array(test_set_x).shape , np.array(person_test).shape)"
   ]
  },
  {
   "cell_type": "code",
   "execution_count": 3,
   "metadata": {},
   "outputs": [
    {
     "ename": "ValueError",
     "evalue": "cannot reshape array of size 26112 into shape (418,128)",
     "output_type": "error",
     "traceback": [
      "\u001b[0;31m---------------------------------------------------------------------------\u001b[0m",
      "\u001b[0;31mAttributeError\u001b[0m                            Traceback (most recent call last)",
      "\u001b[0;32m~/anaconda3/lib/python3.6/site-packages/numpy/core/fromnumeric.py\u001b[0m in \u001b[0;36m_wrapfunc\u001b[0;34m(obj, method, *args, **kwds)\u001b[0m\n\u001b[1;32m     51\u001b[0m     \u001b[0;32mtry\u001b[0m\u001b[0;34m:\u001b[0m\u001b[0;34m\u001b[0m\u001b[0m\n\u001b[0;32m---> 52\u001b[0;31m         \u001b[0;32mreturn\u001b[0m \u001b[0mgetattr\u001b[0m\u001b[0;34m(\u001b[0m\u001b[0mobj\u001b[0m\u001b[0;34m,\u001b[0m \u001b[0mmethod\u001b[0m\u001b[0;34m)\u001b[0m\u001b[0;34m(\u001b[0m\u001b[0;34m*\u001b[0m\u001b[0margs\u001b[0m\u001b[0;34m,\u001b[0m \u001b[0;34m**\u001b[0m\u001b[0mkwds\u001b[0m\u001b[0;34m)\u001b[0m\u001b[0;34m\u001b[0m\u001b[0m\n\u001b[0m\u001b[1;32m     53\u001b[0m \u001b[0;34m\u001b[0m\u001b[0m\n",
      "\u001b[0;31mAttributeError\u001b[0m: 'list' object has no attribute 'reshape'",
      "\nDuring handling of the above exception, another exception occurred:\n",
      "\u001b[0;31mValueError\u001b[0m                                Traceback (most recent call last)",
      "\u001b[0;32m<ipython-input-3-7cddfe21b612>\u001b[0m in \u001b[0;36m<module>\u001b[0;34m()\u001b[0m\n\u001b[0;32m----> 1\u001b[0;31m \u001b[0mtrain_set_x\u001b[0m \u001b[0;34m=\u001b[0m \u001b[0mnp\u001b[0m\u001b[0;34m.\u001b[0m\u001b[0mreshape\u001b[0m\u001b[0;34m(\u001b[0m\u001b[0mtrain_set_x\u001b[0m\u001b[0;34m,\u001b[0m\u001b[0;34m(\u001b[0m\u001b[0;36m418\u001b[0m\u001b[0;34m,\u001b[0m\u001b[0;36m128\u001b[0m\u001b[0;34m)\u001b[0m\u001b[0;34m)\u001b[0m\u001b[0;34m\u001b[0m\u001b[0m\n\u001b[0m\u001b[1;32m      2\u001b[0m \u001b[0mtest_set_x\u001b[0m \u001b[0;34m=\u001b[0m \u001b[0mnp\u001b[0m\u001b[0;34m.\u001b[0m\u001b[0mreshape\u001b[0m\u001b[0;34m(\u001b[0m\u001b[0mtest_set_x\u001b[0m\u001b[0;34m,\u001b[0m\u001b[0;34m(\u001b[0m\u001b[0;36m140\u001b[0m\u001b[0;34m,\u001b[0m\u001b[0;36m128\u001b[0m\u001b[0;34m)\u001b[0m\u001b[0;34m)\u001b[0m\u001b[0;34m\u001b[0m\u001b[0m\n",
      "\u001b[0;32m~/anaconda3/lib/python3.6/site-packages/numpy/core/fromnumeric.py\u001b[0m in \u001b[0;36mreshape\u001b[0;34m(a, newshape, order)\u001b[0m\n\u001b[1;32m    255\u001b[0m            [5, 6]])\n\u001b[1;32m    256\u001b[0m     \"\"\"\n\u001b[0;32m--> 257\u001b[0;31m     \u001b[0;32mreturn\u001b[0m \u001b[0m_wrapfunc\u001b[0m\u001b[0;34m(\u001b[0m\u001b[0ma\u001b[0m\u001b[0;34m,\u001b[0m \u001b[0;34m'reshape'\u001b[0m\u001b[0;34m,\u001b[0m \u001b[0mnewshape\u001b[0m\u001b[0;34m,\u001b[0m \u001b[0morder\u001b[0m\u001b[0;34m=\u001b[0m\u001b[0morder\u001b[0m\u001b[0;34m)\u001b[0m\u001b[0;34m\u001b[0m\u001b[0m\n\u001b[0m\u001b[1;32m    258\u001b[0m \u001b[0;34m\u001b[0m\u001b[0m\n\u001b[1;32m    259\u001b[0m \u001b[0;34m\u001b[0m\u001b[0m\n",
      "\u001b[0;32m~/anaconda3/lib/python3.6/site-packages/numpy/core/fromnumeric.py\u001b[0m in \u001b[0;36m_wrapfunc\u001b[0;34m(obj, method, *args, **kwds)\u001b[0m\n\u001b[1;32m     60\u001b[0m     \u001b[0;31m# a downstream library like 'pandas'.\u001b[0m\u001b[0;34m\u001b[0m\u001b[0;34m\u001b[0m\u001b[0m\n\u001b[1;32m     61\u001b[0m     \u001b[0;32mexcept\u001b[0m \u001b[0;34m(\u001b[0m\u001b[0mAttributeError\u001b[0m\u001b[0;34m,\u001b[0m \u001b[0mTypeError\u001b[0m\u001b[0;34m)\u001b[0m\u001b[0;34m:\u001b[0m\u001b[0;34m\u001b[0m\u001b[0m\n\u001b[0;32m---> 62\u001b[0;31m         \u001b[0;32mreturn\u001b[0m \u001b[0m_wrapit\u001b[0m\u001b[0;34m(\u001b[0m\u001b[0mobj\u001b[0m\u001b[0;34m,\u001b[0m \u001b[0mmethod\u001b[0m\u001b[0;34m,\u001b[0m \u001b[0;34m*\u001b[0m\u001b[0margs\u001b[0m\u001b[0;34m,\u001b[0m \u001b[0;34m**\u001b[0m\u001b[0mkwds\u001b[0m\u001b[0;34m)\u001b[0m\u001b[0;34m\u001b[0m\u001b[0m\n\u001b[0m\u001b[1;32m     63\u001b[0m \u001b[0;34m\u001b[0m\u001b[0m\n\u001b[1;32m     64\u001b[0m \u001b[0;34m\u001b[0m\u001b[0m\n",
      "\u001b[0;32m~/anaconda3/lib/python3.6/site-packages/numpy/core/fromnumeric.py\u001b[0m in \u001b[0;36m_wrapit\u001b[0;34m(obj, method, *args, **kwds)\u001b[0m\n\u001b[1;32m     40\u001b[0m     \u001b[0;32mexcept\u001b[0m \u001b[0mAttributeError\u001b[0m\u001b[0;34m:\u001b[0m\u001b[0;34m\u001b[0m\u001b[0m\n\u001b[1;32m     41\u001b[0m         \u001b[0mwrap\u001b[0m \u001b[0;34m=\u001b[0m \u001b[0;32mNone\u001b[0m\u001b[0;34m\u001b[0m\u001b[0m\n\u001b[0;32m---> 42\u001b[0;31m     \u001b[0mresult\u001b[0m \u001b[0;34m=\u001b[0m \u001b[0mgetattr\u001b[0m\u001b[0;34m(\u001b[0m\u001b[0masarray\u001b[0m\u001b[0;34m(\u001b[0m\u001b[0mobj\u001b[0m\u001b[0;34m)\u001b[0m\u001b[0;34m,\u001b[0m \u001b[0mmethod\u001b[0m\u001b[0;34m)\u001b[0m\u001b[0;34m(\u001b[0m\u001b[0;34m*\u001b[0m\u001b[0margs\u001b[0m\u001b[0;34m,\u001b[0m \u001b[0;34m**\u001b[0m\u001b[0mkwds\u001b[0m\u001b[0;34m)\u001b[0m\u001b[0;34m\u001b[0m\u001b[0m\n\u001b[0m\u001b[1;32m     43\u001b[0m     \u001b[0;32mif\u001b[0m \u001b[0mwrap\u001b[0m\u001b[0;34m:\u001b[0m\u001b[0;34m\u001b[0m\u001b[0m\n\u001b[1;32m     44\u001b[0m         \u001b[0;32mif\u001b[0m \u001b[0;32mnot\u001b[0m \u001b[0misinstance\u001b[0m\u001b[0;34m(\u001b[0m\u001b[0mresult\u001b[0m\u001b[0;34m,\u001b[0m \u001b[0mmu\u001b[0m\u001b[0;34m.\u001b[0m\u001b[0mndarray\u001b[0m\u001b[0;34m)\u001b[0m\u001b[0;34m:\u001b[0m\u001b[0;34m\u001b[0m\u001b[0m\n",
      "\u001b[0;31mValueError\u001b[0m: cannot reshape array of size 26112 into shape (418,128)"
     ]
    }
   ],
   "source": [
    "train_set_x = np.reshape(train_set_x,(418,128))\n",
    "test_set_x = np.reshape(test_set_x,(140,128))"
   ]
  },
  {
   "cell_type": "code",
   "execution_count": null,
   "metadata": {},
   "outputs": [],
   "source": [
    "#Getting data in desired format and mapping the lables\n",
    "dataSet = np.array(train_set_x)\n",
    "train = pd.DataFrame(dataSet)\n",
    "\n",
    "person = np.array(person)\n",
    "train['id'] = person.transpose()\n",
    "\n",
    "unique_person = train['id']\n",
    "unique_person = np.array(unique_person)\n",
    "unique_person = np.unique(unique_person)\n",
    "key = range(len(unique_person))\n",
    "\n",
    "roll_dict = dict( zip(unique_person, key))\n",
    "\n",
    "mapped_roll = np.vectorize(roll_dict.get)(person)\n",
    "train['id'] = mapped_roll.transpose()\n",
    "\n",
    "y = train['id'].values.astype('int64')\n",
    "images = train.drop(['id'], axis=1, inplace=False)\n",
    "x = (images.values).astype('uint8')\n",
    "\n",
    "X_train = x\n",
    "Y_train = y\n",
    "\n",
    "dataSet_test = np.array(test_set_x)\n",
    "test = pd.DataFrame(dataSet_test)\n",
    "\n",
    "person_test = np.array(person_test)\n",
    "test['id'] = person_test.transpose()\n",
    "\n",
    "mapped_roll_test = np.vectorize(roll_dict.get)(person_test)\n",
    "test['id'] = mapped_roll_test.transpose()\n",
    "print(test['id'])\n",
    "\n",
    "temp = np_utils.to_categorical(test['id'])\n",
    "print(temp[2])\n",
    "print(temp.shape)\n",
    "\n",
    "temp = np_utils.to_categorical(test['id'])\n",
    "print(temp[2])\n",
    "print(temp.shape)\n",
    "\n",
    "y_test = test['id'].values.astype('int64')\n",
    "images = test.drop(['id'], axis=1, inplace=False)\n",
    "x_test = (images.values).astype('uint8')\n",
    "\n",
    "X_test = x_test\n",
    "Y_test = y_test"
   ]
  },
  {
   "cell_type": "code",
   "execution_count": null,
   "metadata": {},
   "outputs": [],
   "source": [
    "#Defining and training of the neural neural network\n",
    "model = models.Sequential()\n",
    "layers = 2\n",
    "units = 256\n",
    "\n",
    "#Input layer\n",
    "model.add(Dense(units, input_dim=128, activation='relu'))\n",
    "\n",
    "#Hidden Layer\n",
    "for i in range(layers):\n",
    "    model.add(Dense(146, activation='relu'))\n",
    "    model.add(Dropout(0.1))\n",
    "    \n",
    "#Output layer\n",
    "model.add(Dense(36, activation='softmax'))\n",
    "\n",
    "#Building model\n",
    "model.compile(loss='sparse_categorical_crossentropy', optimizer='Adam', metrics=['accuracy'])\n",
    "\n",
    "#Training model\n",
    "model.fit(X_train,Y_train,batch_size=70,validation_split=0.2,epochs=150,verbose=2)"
   ]
  },
  {
   "cell_type": "code",
   "execution_count": null,
   "metadata": {},
   "outputs": [],
   "source": [
    "predictions = model.predict_classes(X_test, verbose=0)\n",
    "\n",
    "def write_predictions(predictions, fname):\n",
    "    pd.DataFrame({\"ImageId\": list(range(1,len(predictions)+1)), \"id\": predictions}).to_csv(fname, index=False, header=True)\n",
    "\n",
    "write_predictions(predictions, \"out.csv\")\n"
   ]
  },
  {
   "cell_type": "code",
   "execution_count": null,
   "metadata": {},
   "outputs": [],
   "source": [
    "result = pd.read_csv('out.csv')\n",
    "result = result['id']\n",
    "result = np.array(result)\n",
    "error = np.array(Y_test - result)\n",
    "error = error[error != 0]\n",
    "error = error.size/Y_test.size\n",
    "\n",
    "print('Accuracy : ',1-error)\n",
    "\n",
    "result"
   ]
  },
  {
   "cell_type": "code",
   "execution_count": null,
   "metadata": {},
   "outputs": [],
   "source": [
    "score = model.predict_proba(X_test)"
   ]
  },
  {
   "cell_type": "code",
   "execution_count": null,
   "metadata": {},
   "outputs": [],
   "source": [
    "precision = dict()\n",
    "recall = dict()\n",
    "average_precision = dict()\n",
    "for i in range(36):\n",
    "    precision[i], recall[i], _ = precision_recall_curve(temp[:, i],\n",
    "                                                        score[:, i])\n",
    "    average_precision[i] = average_precision_score(temp[:, i], score[:, i])\n",
    "\n",
    "# A \"micro-average\": quantifying score on all classes jointly\n",
    "precision[\"micro\"], recall[\"micro\"], _ = precision_recall_curve(temp.ravel(),\n",
    "    score.ravel())\n",
    "average_precision[\"micro\"] = average_precision_score(temp, score,\n",
    "                                                     average=\"micro\")\n",
    "print('Average precision score, micro-averaged over all classes: {0:0.2f}'\n",
    "      .format(average_precision[\"micro\"]))\n",
    "\n",
    "fig = plt.figure()\n",
    "plt.step(recall['micro'], precision['micro'], color='b', alpha=0.9,\n",
    "         where='post')\n",
    "#plt.fill_between(recall[\"micro\"], precision[\"micro\"], step='post', alpha=0.2,\n",
    "#                 color='b')\n",
    "\n",
    "plt.xlabel('Recall')\n",
    "plt.ylabel('Precision')\n",
    "plt.ylim([0.0, 1.05])\n",
    "plt.xlim([0.0, 1.0])\n",
    "plt.title(\n",
    "    'Average precision score, micro-averaged over all classes: AP={0:0.2f}'\n",
    "    .format(average_precision[\"micro\"]))\n",
    "plt.show()\n",
    "fig.savefig('SIFT-ANN(Original image).png',dpi=100)"
   ]
  },
  {
   "cell_type": "code",
   "execution_count": null,
   "metadata": {},
   "outputs": [],
   "source": []
  }
 ],
 "metadata": {
  "kernelspec": {
   "display_name": "Python 3",
   "language": "python",
   "name": "python3"
  },
  "language_info": {
   "codemirror_mode": {
    "name": "ipython",
    "version": 3
   },
   "file_extension": ".py",
   "mimetype": "text/x-python",
   "name": "python",
   "nbconvert_exporter": "python",
   "pygments_lexer": "ipython3",
   "version": "3.6.5"
  }
 },
 "nbformat": 4,
 "nbformat_minor": 2
}
